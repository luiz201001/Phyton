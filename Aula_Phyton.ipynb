{
  "nbformat": 4,
  "nbformat_minor": 0,
  "metadata": {
    "colab": {
      "provenance": [],
      "authorship_tag": "ABX9TyNttaQxVAdEYnYnZPr98FXK",
      "include_colab_link": true
    },
    "kernelspec": {
      "name": "python3",
      "display_name": "Python 3"
    },
    "language_info": {
      "name": "python"
    }
  },
  "cells": [
    {
      "cell_type": "markdown",
      "metadata": {
        "id": "view-in-github",
        "colab_type": "text"
      },
      "source": [
        "<a href=\"https://colab.research.google.com/github/luiz201001/Phyton/blob/main/Aula_Phyton.ipynb\" target=\"_parent\"><img src=\"https://colab.research.google.com/assets/colab-badge.svg\" alt=\"Open In Colab\"/></a>"
      ]
    },
    {
      "cell_type": "markdown",
      "source": [
        "#**Aula 1**  ⚔ ♟ 🏹\n"
      ],
      "metadata": {
        "id": "TSpWdzmqnvc-"
      }
    },
    {
      "cell_type": "code",
      "source": [
        "print(\"I competição de programação da Start\")\n",
        "ano = \"IX\"\n",
        "print(f\"{ano} competição de programação da Start\")\n"
      ],
      "metadata": {
        "id": "EhNTQ8GXquIo",
        "colab": {
          "base_uri": "https://localhost:8080/"
        },
        "outputId": "5c62c92f-0aa1-45d6-a8ee-c030b0cec695"
      },
      "execution_count": null,
      "outputs": [
        {
          "output_type": "stream",
          "name": "stdout",
          "text": [
            "I competição de programação da Start\n",
            "IX competição de programação da Start\n"
          ]
        }
      ]
    },
    {
      "cell_type": "markdown",
      "source": [
        "#**Aula 2** ✈ ⏰ ⚛"
      ],
      "metadata": {
        "id": "1nDdfPM8sj7t"
      }
    },
    {
      "cell_type": "code",
      "source": [
        "livro_ficcao = 8\n",
        "livro_n_ficcao = 10\n",
        "livro_infantil = 6\n",
        "pontos_rodrigo = livro_ficcao + livro_n_ficcao + livro_infantil\n",
        "pontos_ana = 2 * livro_ficcao + 5 * livro_infantil\n",
        "pontos_totais = pontos_rodrigo + pontos_ana\n",
        "print(f\"Os pontos totais do Rodrigo são {pontos_rodrigo}\")\n",
        "print(f\"Os pontos totais da Ana são {pontos_ana}\")\n",
        "print(f\"Os pontos totais do Rodrigo e da Ana são {pontos_totais}\")"
      ],
      "metadata": {
        "id": "apksKVojiPXj",
        "colab": {
          "base_uri": "https://localhost:8080/"
        },
        "outputId": "1ec1b5ec-1f87-4a10-ec0a-b7ac1c4b7e26"
      },
      "execution_count": null,
      "outputs": [
        {
          "output_type": "stream",
          "name": "stdout",
          "text": [
            "Os pontos totais do Rodrigo são 24\n",
            "Os pontos totais da Ana são 46\n",
            "Os pontos totais do Rodrigo e da Ana são 70\n"
          ]
        }
      ]
    },
    {
      "cell_type": "markdown",
      "source": [
        "#**Aula 3 - Tabuada 🎯 ⚗  🗽**"
      ],
      "metadata": {
        "id": "x5o3YSl9rkjS"
      }
    },
    {
      "cell_type": "code",
      "source": [
        "def tabuada(numero):\n",
        "    for contador in range(1, 11):  # Gera números de 1 a 10\n",
        "        print(f\"{numero} x {contador} = {numero * contador}\")\n",
        "numero = int(input(\"Digite um número para ver sua tabuada: \"))\n",
        "tabuada(numero)\n"
      ],
      "metadata": {
        "id": "eqMgwGplsfgX",
        "colab": {
          "base_uri": "https://localhost:8080/"
        },
        "outputId": "525e6e3f-6ef5-4927-c596-8722de31f293"
      },
      "execution_count": null,
      "outputs": [
        {
          "output_type": "stream",
          "name": "stdout",
          "text": [
            "Digite um número para ver sua tabuada: 5\n",
            "5 x 1 = 5\n",
            "5 x 2 = 10\n",
            "5 x 3 = 15\n",
            "5 x 4 = 20\n",
            "5 x 5 = 25\n",
            "5 x 6 = 30\n",
            "5 x 7 = 35\n",
            "5 x 8 = 40\n",
            "5 x 9 = 45\n",
            "5 x 10 = 50\n"
          ]
        }
      ]
    },
    {
      "cell_type": "markdown",
      "source": [
        "#**Aula 4 - IMC ⚓ 🍔 🧭**"
      ],
      "metadata": {
        "id": "02BKGeHUueJc"
      }
    },
    {
      "cell_type": "code",
      "source": [
        "peso = float(input(\"Digite seu peso (em kg): \"))\n",
        "altura_str = input(\"Digite sua altura (em metros): \")\n",
        "altura = float(altura_str.replace(',', '.'))\n",
        "imc = peso / (altura ** 2)\n",
        "print(f\"\\nSeu IMC é: {imc:.2f}\")\n",
        "if imc < 18.5:\n",
        "    print(\"Você está abaixo do peso.\")\n",
        "elif 18.5 <= imc < 25:\n",
        "    print(\"Você está no peso ideal.\")\n",
        "elif 25 <= imc < 30:\n",
        "    print(\"Você está com sobrepeso.\")\n",
        "else:\n",
        "    print(\"Você está acima do peso.\")"
      ],
      "metadata": {
        "id": "FLfN--zmu2N6"
      },
      "execution_count": null,
      "outputs": []
    },
    {
      "cell_type": "markdown",
      "source": [
        "#**Aula 5** ⏳ ⌚ ⛪"
      ],
      "metadata": {
        "id": "REakA82jkWe7"
      }
    },
    {
      "cell_type": "code",
      "source": [
        "print(\"olá, sou seu assistente virtual, em que posso ajudar?\")\n",
        "nome = input(\"Digite seu nome: \")\n",
        "resposta = input(f\"Olá {nome}, qual tema você deseja conversar? Phyton, Javascript, ou Matemática: \").lower()\n",
        "\n",
        "if resposta == \"phyton\":\n",
        "  print(f\"Ótimo {nome}, vamos falar sobre Phyton. \\n Python é uma linguagem de programação de alto nível, criada por Guido van Rossum no final dos anos 1980 e lançada oficialmente em 1991.\")\n",
        "\n",
        "if resposta == \"javascript\":\n",
        "  print(f\"Ótimo {nome}, vamos falar sobre Javascript. \\n JavaScript (JS) é uma linguagem de programação essencial para o desenvolvimento web, criada em 1995 por Brendan Eich, enquanto trabalhava na Netscape.\")\n",
        "\n",
        "if resposta == \"matemática\":\n",
        "  print(f\"Ótimo {nome}, vamos falar sobre Matemática. \\n A matemática é a ciência que estuda números, formas, medidas, estruturas, padrões e relações.\")\n",
        "else:\n",
        "    print(f\"Que pena {nome}, não sei falar sobre este assunto.\")\n"
      ],
      "metadata": {
        "id": "cemept8Jk6Yz",
        "colab": {
          "base_uri": "https://localhost:8080/"
        },
        "outputId": "b66c544e-c5a9-4501-d2ff-669da7636d71"
      },
      "execution_count": null,
      "outputs": [
        {
          "output_type": "stream",
          "name": "stdout",
          "text": [
            "olá, sou seu assistente virtual, em que posso ajudar?\n",
            "Digite seu nome: luiz\n",
            "Olá luiz, qual tema você deseja conversar? Phyton, Javascript, ou Matemática: phyton\n",
            "Ótimo luiz, vamos falar sobre Phyton. \n",
            " Python é uma linguagem de programação de alto nível, criada por Guido van Rossum no final dos anos 1980 e lançada oficialmente em 1991.\n",
            "Que pena luiz, não sei falar sobre este assunto.\n"
          ]
        }
      ]
    },
    {
      "cell_type": "markdown",
      "source": [
        "#**Aula 6 - Listas** ⛽ 📊 🎮"
      ],
      "metadata": {
        "id": "HVOI-Q5IyvXO"
      }
    },
    {
      "cell_type": "code",
      "source": [],
      "metadata": {
        "id": "CIx7jXKTzC9O"
      },
      "execution_count": null,
      "outputs": []
    }
  ]
}