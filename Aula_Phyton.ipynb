{
  "nbformat": 4,
  "nbformat_minor": 0,
  "metadata": {
    "colab": {
      "provenance": [],
      "authorship_tag": "ABX9TyO0YwQoGTJaHOIhdLnHkeGj",
      "include_colab_link": true
    },
    "kernelspec": {
      "name": "python3",
      "display_name": "Python 3"
    },
    "language_info": {
      "name": "python"
    }
  },
  "cells": [
    {
      "cell_type": "markdown",
      "metadata": {
        "id": "view-in-github",
        "colab_type": "text"
      },
      "source": [
        "<a href=\"https://colab.research.google.com/github/luiz201001/Phyton/blob/main/Aula_Phyton.ipynb\" target=\"_parent\"><img src=\"https://colab.research.google.com/assets/colab-badge.svg\" alt=\"Open In Colab\"/></a>"
      ]
    },
    {
      "cell_type": "markdown",
      "source": [
        "#**Aula 1**  ⚔ ♟ 🏹\n"
      ],
      "metadata": {
        "id": "TSpWdzmqnvc-"
      }
    },
    {
      "cell_type": "code",
      "source": [
        "print(\"I competição de programação da Start\")\n",
        "ano = \"IX\"\n",
        "print(f\"{ano} competição de programação da Start\")\n"
      ],
      "metadata": {
        "id": "EhNTQ8GXquIo"
      },
      "execution_count": null,
      "outputs": []
    },
    {
      "cell_type": "markdown",
      "source": [
        "#**Aula 2** ✈ ⏰ ⚛"
      ],
      "metadata": {
        "id": "1nDdfPM8sj7t"
      }
    },
    {
      "cell_type": "code",
      "source": [
        "livro_ficcao = 8\n",
        "livro_n_ficcao = 10\n",
        "livro_infantil = 6\n",
        "pontos_rodrigo = livro_ficcao + livro_n_ficcao + livro_infantil\n",
        "pontos_ana = 2 * livro_ficcao + 5 * livro_infantil\n",
        "pontos_totais = pontos_rodrigo + pontos_ana\n",
        "print(f\"Os pontos totais do Rodrigo são {pontos_rodrigo}\")\n",
        "print(f\"Os pontos totais da Ana são {pontos_ana}\")\n",
        "print(f\"Os pontos totais do Rodrigo e da Ana são {pontos_totais}\")"
      ],
      "metadata": {
        "id": "apksKVojiPXj"
      },
      "execution_count": null,
      "outputs": []
    },
    {
      "cell_type": "markdown",
      "source": [
        "#**Aula 3 - Tabuada 🎯 ⚗  🗽**"
      ],
      "metadata": {
        "id": "x5o3YSl9rkjS"
      }
    },
    {
      "cell_type": "code",
      "source": [
        "def tabuada(numero):\n",
        "    for contador in range(1, 11):  # Gera números de 1 a 10\n",
        "        print(f\"{numero} x {contador} = {numero * contador}\")\n",
        "numero = int(input(\"Digite um número para ver sua tabuada: \"))\n",
        "tabuada(numero)\n"
      ],
      "metadata": {
        "id": "eqMgwGplsfgX"
      },
      "execution_count": null,
      "outputs": []
    },
    {
      "cell_type": "markdown",
      "source": [
        "#**Aula 4 - IMC ⚓ 🍔 🧭**"
      ],
      "metadata": {
        "id": "02BKGeHUueJc"
      }
    },
    {
      "cell_type": "code",
      "source": [
        "peso = float(input(\"Digite seu peso (em kg): \"))\n",
        "altura = float(input(\"Digite sua altura (em metros): \"))\n",
        "imc = peso / (altura ** 2)\n",
        "print(f\"\\nSeu IMC é: {imc:.2f}\")\n",
        "if imc < 18.5:\n",
        "    print(\"Você está abaixo do peso.\")\n",
        "elif 18.5 <= imc < 25:\n",
        "    print(\"Você está no peso ideal.\")\n",
        "elif 25 <= imc < 30:\n",
        "    print(\"Você está com sobrepeso.\")\n",
        "else:\n",
        "    print(\"Você está acima do peso.\")"
      ],
      "metadata": {
        "id": "FLfN--zmu2N6"
      },
      "execution_count": null,
      "outputs": []
    },
    {
      "cell_type": "markdown",
      "source": [
        "#**Aula 5** ⏳ ⌚ ⛪"
      ],
      "metadata": {
        "id": "REakA82jkWe7"
      }
    },
    {
      "cell_type": "code",
      "source": [
        "print(\"olá, sou seu assistente virtual, em que posso ajudar?\")\n",
        "nome = input(\"Digite seu nome: \")\n",
        "resposta = input(f\"Olá {nome}, qual tema você deseja conversar? Phyton, Javascript, ou Matemática: \").lower()\n",
        "if resposta == \"phyton\":\n",
        "  print(f\"Ótimo {nome}, vamos falar sobre Phyton. \\n Python é uma linguagem de programação de alto nível, criada por Guido van Rossum no final dos anos 1980 e lançada oficialmente em 1991. É uma das linguagens mais populares do mundo atualmente, usada em praticamente todas as áreas da computação.\n",
        "\n",
        "Aqui vai um resumo dos principais pontos sobre Python:\n",
        "\n",
        "🧠 Características principais\n",
        "\n",
        "Fácil de aprender e ler: A sintaxe é simples e parecida com o inglês, o que torna Python ótimo para iniciantes.\n",
        "\n",
        "Linguagem interpretada: O código é executado linha por linha, sem necessidade de compilação prévia.\n",
        "\n",
        "Multiparadigma: Suporta programação orientada a objetos, procedural e funcional.\n",
        "\n",
        "Ampla biblioteca padrão: Vem com muitos módulos prontos para uso (como manipulação de arquivos, internet, matemática, etc.).\n",
        "\n",
        "Portável: Funciona em Windows, macOS, Linux e até dispositivos móveis.\n",
        "\n",
        "⚙️ Principais usos\n",
        "\n",
        "Ciência de dados e inteligência artificial → bibliotecas como pandas, NumPy, scikit-learn, TensorFlow, PyTorch.\n",
        "\n",
        "Desenvolvimento web → frameworks como Django e Flask.\n",
        "\n",
        "Automação e scripts → usada para automatizar tarefas repetitivas.\n",
        "\n",
        "Análise de dados e visualização → com Matplotlib, Seaborn, Plotly.\n",
        "\n",
        "Cibersegurança, IoT, desenvolvimento de jogos e muito mais.\")\n",
        "if resposta == \"javascript\":\n",
        "  print(f\"Ótimo {nome}, vamos falar sobre Javascript. \\n JavaScript (JS) é uma linguagem de programação essencial para o desenvolvimento web, criada em 1995 por Brendan Eich, enquanto trabalhava na Netscape.\n",
        "Hoje, é uma das linguagens mais usadas no mundo, especialmente para criar páginas interativas, aplicações web, apps móveis e até servidores.\n",
        "\n",
        "🌐 O que é JavaScript\n",
        "\n",
        "JavaScript é a linguagem que dá vida às páginas da web.\n",
        "Enquanto HTML define o conteúdo e CSS define o estilo, o JavaScript define o comportamento.\n",
        "\n",
        "Por exemplo:\n",
        "\n",
        "Quando você clica em um botão e algo acontece, isso é JavaScript.\n",
        "\n",
        "Quando uma página atualiza sem recarregar (como no Gmail), isso é JavaScript.\n",
        "\n",
        "⚙️ Características principais\n",
        "\n",
        "Linguagem interpretada → O código é executado diretamente pelo navegador (ou por um interpretador, como o Node.js).\n",
        "\n",
        "Baseada em eventos → Responde a ações do usuário (cliques, digitação, rolagem etc.).\n",
        "\n",
        "Dinamicamente tipada → Não é preciso declarar o tipo das variáveis.\n",
        "\n",
        "Orientada a objetos e funcional → Suporta ambos os paradigmas.\n",
        "\n",
        "Multiplataforma → Funciona em navegadores, servidores e até em hardware (como Arduino e IoT).\n",
        "\n",
        "🖥️ Onde o JavaScript é usado\n",
        "\n",
        "Front-end (navegador) → com frameworks como React, Vue.js, Angular.\n",
        "\n",
        "Back-end (servidor) → com Node.js.\n",
        "\n",
        "Desenvolvimento mobile → com React Native ou Ionic.\n",
        "\n",
        "Desenvolvimento de jogos → com Phaser e Three.js.\n",
        "\n",
        "Automação e scripts → usado em ferramentas como o npm e Gulp.\")\n",
        "if resposta == \"matemática\":\n",
        "  print(f\"Ótimo {nome}, vamos falar sobre Matemática. \\n A matemática é a ciência que estuda números, formas, medidas, estruturas, padrões e relações.\n",
        "Ela é fundamental para praticamente todas as áreas do conhecimento — da física e engenharia à economia, computação, arte e música.\n",
        "\n",
        "🧠 O que é a matemática\n",
        "\n",
        "De forma simples, a matemática busca entender e descrever o mundo de maneira lógica e precisa.\n",
        "Ela usa símbolos, fórmulas e raciocínio dedutivo para resolver problemas e descobrir relações entre quantidades e formas.\n",
        "\n",
        "📚 Principais ramos da matemática\n",
        "\n",
        "Aritmética → Estuda as operações básicas (adição, subtração, multiplicação, divisão) e propriedades dos números.\n",
        "\n",
        "Exemplo:\n",
        "7\n",
        "+\n",
        "5\n",
        "=\n",
        "12\n",
        "7+5=12\n",
        "\n",
        "Álgebra → Usa letras e símbolos para representar números e relações.\n",
        "\n",
        "Exemplo:\n",
        "𝑥\n",
        "+\n",
        "3\n",
        "=\n",
        "7\n",
        "⇒\n",
        "𝑥\n",
        "=\n",
        "4\n",
        "x+3=7⇒x=4\n",
        "\n",
        "Geometria → Analisa formas, tamanhos e posições de figuras no espaço.\n",
        "\n",
        "Exemplo: cálculo da área de um triângulo\n",
        "𝐴\n",
        "=\n",
        "𝑏\n",
        "⋅\n",
        "ℎ\n",
        "2\n",
        "A=\n",
        "2\n",
        "b⋅h\n",
        "\t​\n",
        "\n",
        "\n",
        "Trigonometria → Estuda ângulos e relações entre os lados dos triângulos.\n",
        "\n",
        "Exemplo:\n",
        "sin\n",
        "⁡\n",
        "(\n",
        "𝜃\n",
        ")\n",
        "=\n",
        "cateto oposto\n",
        "hipotenusa\n",
        "sin(θ)=\n",
        "hipotenusa\n",
        "cateto oposto\n",
        "\t​\n",
        "\n",
        "\n",
        "Cálculo → Analisa variações e taxas de mudança, muito usado em física e engenharia.\n",
        "\n",
        "Exemplo: derivadas e integrais.\n",
        "\n",
        "Estatística e Probabilidade → Trabalham com dados, incertezas e previsões.\n",
        "\n",
        "Exemplo: “Qual a chance de sair cara em uma moeda?” →\n",
        "50\n",
        "%\n",
        "50%\n",
        "\n",
        "Matemática Discreta → Base da computação, estuda estruturas que não são contínuas (como grafos, conjuntos e algoritmos).\n",
        "\n",
        "💡 Por que a matemática é importante\n",
        "\n",
        "Desenvolve o raciocínio lógico e o pensamento crítico.\n",
        "\n",
        "É essencial para ciência, tecnologia, finanças, engenharia e medicina.\n",
        "\n",
        "Ajuda a resolver problemas reais — desde calcular troco até projetar satélites.\n",
        "\n",
        "🧩 Curiosidade\n",
        "\n",
        "A palavra “matemática” vem do grego “mathema”, que significa “ciência, conhecimento ou aprendizado”.\n",
        "E, curiosamente, os padrões matemáticos aparecem na natureza — em conchas, flores, cristais e até na formação das galáxias! 🌻✨\")\n",
        "  else:\n",
        "    print(f\"Que pena {nome}, não sei falar sobre este assunto.\")\n",
        "\n"
      ],
      "metadata": {
        "id": "cemept8Jk6Yz"
      },
      "execution_count": null,
      "outputs": []
    }
  ]
}